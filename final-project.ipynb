{
 "cells": [
  {
   "cell_type": "markdown",
   "id": "c8647f57-c8ad-45b8-91e6-b3549d6d3317",
   "metadata": {},
   "source": [
    "<div class=\"alert\">  \n",
    "    <center><h1><strong>Final Project: NLP Fake news detection</strong></h1></center>"
   ]
  },
  {
   "cell_type": "markdown",
   "id": "addb5e8e-004d-4b16-a215-9610bf022554",
   "metadata": {
    "tags": []
   },
   "source": [
    "<div class=\"alert alert-block alert-info\">  \n",
    "    <center><h2><strong>Analysis / exploration of the data set</strong></h2></center>"
   ]
  },
  {
   "cell_type": "code",
   "execution_count": 5,
   "id": "830aae72-2e49-4645-89ac-67dd778584c9",
   "metadata": {},
   "outputs": [],
   "source": [
    "import numpy as np\n",
    "import pandas as pd"
   ]
  },
  {
   "cell_type": "markdown",
   "id": "85ba749d-64c2-4e9b-9a47-428138e99330",
   "metadata": {},
   "source": [
    "<div class=\"alert alert-block alert-info\">  \n",
    "    <center><h2><strong>Identification of suitable features and implementation of a suitable feature extractor, e.f.\n",
    "TfidfVectorizer</strong></h2></center>"
   ]
  },
  {
   "cell_type": "code",
   "execution_count": null,
   "id": "5462c6df-2b1c-4eb6-904b-1f3fdbf465a6",
   "metadata": {},
   "outputs": [],
   "source": []
  },
  {
   "cell_type": "markdown",
   "id": "db8526b4-6a5d-429b-9cec-7eaf8b61c533",
   "metadata": {},
   "source": [
    "<div class=\"alert alert-block alert-info\">  \n",
    "    <center><h2><strong>Evaluation</strong></h2></center>"
   ]
  },
  {
   "cell_type": "code",
   "execution_count": null,
   "id": "8fd0c70b-668b-4c71-a4b1-2ddece8efeca",
   "metadata": {},
   "outputs": [],
   "source": []
  }
 ],
 "metadata": {
  "kernelspec": {
   "display_name": "Python 3 (ipykernel)",
   "language": "python",
   "name": "python3"
  },
  "language_info": {
   "codemirror_mode": {
    "name": "ipython",
    "version": 3
   },
   "file_extension": ".py",
   "mimetype": "text/x-python",
   "name": "python",
   "nbconvert_exporter": "python",
   "pygments_lexer": "ipython3",
   "version": "3.9.12"
  }
 },
 "nbformat": 4,
 "nbformat_minor": 5
}
