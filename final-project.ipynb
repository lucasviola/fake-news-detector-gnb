{
 "cells": [
  {
   "cell_type": "markdown",
   "id": "c8647f57-c8ad-45b8-91e6-b3549d6d3317",
   "metadata": {},
   "source": [
    "<div class=\"alert\">  \n",
    "    <center><h1><strong>Final Project: NLP Fake news detection</strong></h1></center>"
   ]
  },
  {
   "cell_type": "markdown",
   "id": "addb5e8e-004d-4b16-a215-9610bf022554",
   "metadata": {
    "tags": []
   },
   "source": [
    "<div class=\"alert alert-block alert-info\">  \n",
    "    <center><h2><strong>Analysis / exploration of the data set</strong></h2></center>"
   ]
  },
  {
   "cell_type": "markdown",
   "id": "0d2566cf-fc40-4b52-a87e-08f68b7cd53c",
   "metadata": {},
   "source": [
    "<div class=\"alert alert-block alert-warning\">  \n",
    "<b>Summary of the section </b> \n",
    "<hr>\n",
    "<ul>\n",
    "    <li>Analyze the chosen dataset and its properties</li>\n",
    "</ul>\n",
    "    \n",
    "<hr>\n",
    "<b>Source of Data: </b> \n",
    "<hr> \n",
    " <a href=\"https://www.cs.ucsb.edu/~william/data/liar_dataset\">https://www.cs.ucsb.edu/~william/data/liar_dataset</a>\n",
    "   \n",
    "</div>"
   ]
  },
  {
   "cell_type": "code",
   "execution_count": null,
   "id": "c40bf932-87d7-4f15-a0ee-dd27269d6298",
   "metadata": {},
   "outputs": [],
   "source": [
    "#Importing the required libraries\n",
    "\n",
    "import numpy as np\n",
    "import pandas as pd"
   ]
  },
  {
   "cell_type": "markdown",
   "id": "dcf98781-ad09-4fa0-951d-b3f3bb54053b",
   "metadata": {},
   "source": [
    "## 1. Loading the dataset"
   ]
  },
  {
   "cell_type": "code",
   "execution_count": 12,
   "id": "0039f34b-1a8a-4199-a9e2-091fec0dab27",
   "metadata": {},
   "outputs": [
    {
     "data": {
      "text/html": [
       "<div>\n",
       "<style scoped>\n",
       "    .dataframe tbody tr th:only-of-type {\n",
       "        vertical-align: middle;\n",
       "    }\n",
       "\n",
       "    .dataframe tbody tr th {\n",
       "        vertical-align: top;\n",
       "    }\n",
       "\n",
       "    .dataframe thead th {\n",
       "        text-align: right;\n",
       "    }\n",
       "</style>\n",
       "<table border=\"1\" class=\"dataframe\">\n",
       "  <thead>\n",
       "    <tr style=\"text-align: right;\">\n",
       "      <th></th>\n",
       "      <th>[ID].json</th>\n",
       "      <th>label</th>\n",
       "      <th>statement</th>\n",
       "      <th>subject(s)</th>\n",
       "      <th>speaker</th>\n",
       "      <th>speaker's job title</th>\n",
       "      <th>state info</th>\n",
       "      <th>party affiliation</th>\n",
       "      <th>barely true counts</th>\n",
       "      <th>false counts</th>\n",
       "      <th>half true counts</th>\n",
       "      <th>mostly true counts</th>\n",
       "      <th>pants on fire counts</th>\n",
       "      <th>venue</th>\n",
       "    </tr>\n",
       "  </thead>\n",
       "  <tbody>\n",
       "    <tr>\n",
       "      <th>0</th>\n",
       "      <td>11972.json</td>\n",
       "      <td>TRUE</td>\n",
       "      <td>Building a wall on the U.S.-Mexico border will...</td>\n",
       "      <td>immigration</td>\n",
       "      <td>rick-perry</td>\n",
       "      <td>Governor</td>\n",
       "      <td>Texas</td>\n",
       "      <td>republican</td>\n",
       "      <td>30</td>\n",
       "      <td>30</td>\n",
       "      <td>42</td>\n",
       "      <td>23</td>\n",
       "      <td>18</td>\n",
       "      <td>Radio interview</td>\n",
       "    </tr>\n",
       "    <tr>\n",
       "      <th>1</th>\n",
       "      <td>11685.json</td>\n",
       "      <td>FALSE</td>\n",
       "      <td>Wisconsin is on pace to double the number of l...</td>\n",
       "      <td>jobs</td>\n",
       "      <td>katrina-shankland</td>\n",
       "      <td>State representative</td>\n",
       "      <td>Wisconsin</td>\n",
       "      <td>democrat</td>\n",
       "      <td>2</td>\n",
       "      <td>1</td>\n",
       "      <td>0</td>\n",
       "      <td>0</td>\n",
       "      <td>0</td>\n",
       "      <td>a news conference</td>\n",
       "    </tr>\n",
       "    <tr>\n",
       "      <th>2</th>\n",
       "      <td>11096.json</td>\n",
       "      <td>FALSE</td>\n",
       "      <td>Says John McCain has done nothing to help the ...</td>\n",
       "      <td>military,veterans,voting-record</td>\n",
       "      <td>donald-trump</td>\n",
       "      <td>President-Elect</td>\n",
       "      <td>New York</td>\n",
       "      <td>republican</td>\n",
       "      <td>63</td>\n",
       "      <td>114</td>\n",
       "      <td>51</td>\n",
       "      <td>37</td>\n",
       "      <td>61</td>\n",
       "      <td>comments on ABC's This Week.</td>\n",
       "    </tr>\n",
       "    <tr>\n",
       "      <th>3</th>\n",
       "      <td>5209.json</td>\n",
       "      <td>half-true</td>\n",
       "      <td>Suzanne Bonamici supports a plan that will cut...</td>\n",
       "      <td>medicare,message-machine-2012,campaign-adverti...</td>\n",
       "      <td>rob-cornilles</td>\n",
       "      <td>consultant</td>\n",
       "      <td>Oregon</td>\n",
       "      <td>republican</td>\n",
       "      <td>1</td>\n",
       "      <td>1</td>\n",
       "      <td>3</td>\n",
       "      <td>1</td>\n",
       "      <td>1</td>\n",
       "      <td>a radio show</td>\n",
       "    </tr>\n",
       "    <tr>\n",
       "      <th>4</th>\n",
       "      <td>9524.json</td>\n",
       "      <td>pants-fire</td>\n",
       "      <td>When asked by a reporter whether hes at the ce...</td>\n",
       "      <td>campaign-finance,legal-issues,campaign-adverti...</td>\n",
       "      <td>state-democratic-party-wisconsin</td>\n",
       "      <td>NaN</td>\n",
       "      <td>Wisconsin</td>\n",
       "      <td>democrat</td>\n",
       "      <td>5</td>\n",
       "      <td>7</td>\n",
       "      <td>2</td>\n",
       "      <td>2</td>\n",
       "      <td>7</td>\n",
       "      <td>a web video</td>\n",
       "    </tr>\n",
       "  </tbody>\n",
       "</table>\n",
       "</div>"
      ],
      "text/plain": [
       "    [ID].json       label                                          statement  \\\n",
       "0  11972.json        TRUE  Building a wall on the U.S.-Mexico border will...   \n",
       "1  11685.json       FALSE  Wisconsin is on pace to double the number of l...   \n",
       "2  11096.json       FALSE  Says John McCain has done nothing to help the ...   \n",
       "3   5209.json   half-true  Suzanne Bonamici supports a plan that will cut...   \n",
       "4   9524.json  pants-fire  When asked by a reporter whether hes at the ce...   \n",
       "\n",
       "                                          subject(s)  \\\n",
       "0                                        immigration   \n",
       "1                                               jobs   \n",
       "2                    military,veterans,voting-record   \n",
       "3  medicare,message-machine-2012,campaign-adverti...   \n",
       "4  campaign-finance,legal-issues,campaign-adverti...   \n",
       "\n",
       "                            speaker   speaker's job title state info  \\\n",
       "0                        rick-perry              Governor      Texas   \n",
       "1                 katrina-shankland  State representative  Wisconsin   \n",
       "2                      donald-trump       President-Elect   New York   \n",
       "3                     rob-cornilles            consultant     Oregon   \n",
       "4  state-democratic-party-wisconsin                   NaN  Wisconsin   \n",
       "\n",
       "  party affiliation  barely true counts  false counts  half true counts  \\\n",
       "0        republican                  30            30                42   \n",
       "1          democrat                   2             1                 0   \n",
       "2        republican                  63           114                51   \n",
       "3        republican                   1             1                 3   \n",
       "4          democrat                   5             7                 2   \n",
       "\n",
       "   mostly true counts  pants on fire counts                         venue  \n",
       "0                  23                    18               Radio interview  \n",
       "1                   0                     0             a news conference  \n",
       "2                  37                    61  comments on ABC's This Week.  \n",
       "3                   1                     1                  a radio show  \n",
       "4                   2                     7                   a web video  "
      ]
     },
     "execution_count": 12,
     "metadata": {},
     "output_type": "execute_result"
    }
   ],
   "source": [
    "# Here we are loading th dataset into a pandas dataframe we can do further analysis on it\n",
    "df = pd.read_csv(\"datasets/Liar_Dataset.csv\")\n",
    "\n",
    "# We are also going to look at the first 5 records in it so to have an idead on what we are working with\n",
    "df.head(5)"
   ]
  },
  {
   "cell_type": "markdown",
   "id": "5a5fa2f7-1cd6-4c66-8ab6-5a3f8c02bb91",
   "metadata": {},
   "source": [
    "## 2. Exploring the dataset"
   ]
  },
  {
   "cell_type": "code",
   "execution_count": 17,
   "id": "d7d647a4-7999-4f7c-93d6-785795f15f71",
   "metadata": {},
   "outputs": [
    {
     "name": "stdout",
     "output_type": "stream",
     "text": [
      "<class 'pandas.core.frame.DataFrame'>\n",
      "RangeIndex: 12787 entries, 0 to 12786\n",
      "Data columns (total 14 columns):\n",
      " #   Column                Non-Null Count  Dtype \n",
      "---  ------                --------------  ----- \n",
      " 0   [ID].json             12787 non-null  object\n",
      " 1   label                 12787 non-null  object\n",
      " 2   statement             12787 non-null  object\n",
      " 3   subject(s)            12787 non-null  object\n",
      " 4   speaker               12787 non-null  object\n",
      " 5   speaker's job title   9222 non-null   object\n",
      " 6   state info            10040 non-null  object\n",
      " 7   party affiliation     12787 non-null  object\n",
      " 8   barely true counts    12787 non-null  int64 \n",
      " 9   false counts          12787 non-null  int64 \n",
      " 10  half true counts      12787 non-null  int64 \n",
      " 11  mostly true counts    12787 non-null  int64 \n",
      " 12  pants on fire counts  12787 non-null  int64 \n",
      " 13  venue                 12658 non-null  object\n",
      "dtypes: int64(5), object(9)\n",
      "memory usage: 1.4+ MB\n"
     ]
    }
   ],
   "source": [
    "# Let us first take a look at what we are dealing with\n",
    "df.info()"
   ]
  },
  {
   "cell_type": "markdown",
   "id": "5e4b51bb-1e05-4d0e-8b36-17a8e300f1bc",
   "metadata": {},
   "source": [
    "<div class=\"alert alert-block alert-warning\">  \n",
    "<b>In the above we can point a few things about the dataset</b> \n",
    "<hr>\n",
    "<ul>\n",
    "    <li>1. It has 14 columns and 12787 rows</li>\n",
    "    <li>2. It has two datatypes: objects (strings) and int64 (numbers) </li>\n",
    "    <li>3. The first column - which seems to be some kind of ID - is actually a string. And we can see by looking at the data inside the CSV looks like the filename.</li>\n",
    "    <li>4. We can also notice here that we have a few nulls, as for some columns (such as) 'speaker's job title ', 'state info' and 'venue' the Non-Null Counts are lower than the number of rows. </li>\n",
    "</ul>\n",
    "</div>"
   ]
  },
  {
   "cell_type": "code",
   "execution_count": 13,
   "id": "032528dd-b220-4018-9a93-9caaafc667ed",
   "metadata": {},
   "outputs": [
    {
     "data": {
      "text/plain": [
       "Index(['[ID].json', 'label', 'statement', 'subject(s)', 'speaker',\n",
       "       'speaker's job title', 'state info', 'party affiliation',\n",
       "       'barely true counts', 'false counts', 'half true counts',\n",
       "       'mostly true counts', 'pants on fire counts', 'venue'],\n",
       "      dtype='object')"
      ]
     },
     "execution_count": 13,
     "metadata": {},
     "output_type": "execute_result"
    }
   ],
   "source": [
    "# Now take a look at the columns inside the dataset so to have an idea about the features we can use further in our model\n",
    "df.columns"
   ]
  },
  {
   "cell_type": "markdown",
   "id": "aea34e9d-af2f-4d0a-88f5-4e593946850d",
   "metadata": {},
   "source": [
    "TODO: Understand more about the columns and complete where we have ???\n",
    "Look into PAPER and fact checking websites (politifact)\n",
    "<div class=\"alert alert-block alert-warning\">  \n",
    "<b>Further description by matching the columns with the rows</b> \n",
    "<hr>\n",
    "<ul>\n",
    "    <li>1. '[ID].json' - As already stated, this seems to be a filename. This may not be an useful feature for us to use so we may delete it in the future.</li>\n",
    "    <li>2. 'label' -  This column is the classification of the news statement, it can be either TRUE, FALSE, half-true, half-false or pants-fire.</li>\n",
    "    <li>3. 'statement' - This represents the text in the news article. </li>\n",
    "    <li>3. 'subject(s)' -   The subjects that the news statement talks about. We will further analyze what are them below. </li>\n",
    "    <li>3. 'speaker' -  The person who talked/wrote about the news statement.  We will further analyze what are them below. </li>\n",
    "    <li>4. 'speakers job title' -  The speaker's job.  We will further analyze what are them below. </li>\n",
    "    <li>5. 'state info' -  ???</li>\n",
    "    <li>7. 'party affiliation' - The political party the speaker is related to. </li>\n",
    "    <li>8. 'barely true counts' - The counts of statements that are classified as being barely true. Meaning ??? </li>\n",
    "    <li>9. 'false counts' - The counts of statements that are classified as being barely false </li>\n",
    "    <li>10. 'half true counts' -  The counts of statements that are classified as being half true. Meaning ??? </li>\n",
    "    <li>11. 'mostly true counts' -  The counts of statements that are classified as being mostly true. Meaning ??? </li>\n",
    "    <li>12. 'pants on fire counts' -  The counts of statements that are classified as being pants on fire. Meaning ??? </li>\n",
    "    <li>13. 'venue' -  ??? </li>\n",
    "</ul>\n",
    "</div>"
   ]
  },
  {
   "cell_type": "markdown",
   "id": "ab6afaa3-5692-4372-b1a8-be8d419977d5",
   "metadata": {},
   "source": [
    "## 3. Cleaning the data"
   ]
  },
  {
   "cell_type": "code",
   "execution_count": 23,
   "id": "b35c77e4-cbdd-4121-9d6b-5f019b83967e",
   "metadata": {},
   "outputs": [
    {
     "data": {
      "text/plain": [
       "[ID].json                  0\n",
       "label                      0\n",
       "statement                  0\n",
       "subject(s)                 0\n",
       "speaker                    0\n",
       "speaker's job title     3565\n",
       "state info              2747\n",
       "party affiliation          0\n",
       "barely true counts         0\n",
       "false counts               0\n",
       "half true counts           0\n",
       "mostly true counts         0\n",
       "pants on fire counts       0\n",
       "venue                    129\n",
       "dtype: int64"
      ]
     },
     "execution_count": 23,
     "metadata": {},
     "output_type": "execute_result"
    }
   ],
   "source": [
    "# We already noticed above that we have some null values. Now let us confirm how many and in which columns\n",
    "df.isnull().sum()"
   ]
  },
  {
   "cell_type": "markdown",
   "id": "85ba749d-64c2-4e9b-9a47-428138e99330",
   "metadata": {},
   "source": [
    "<div class=\"alert alert-block alert-info\">  \n",
    "    <center><h2><strong>Identification of suitable features and implementation of a suitable feature extractor, e.f.\n",
    "TfidfVectorizer</strong></h2></center>"
   ]
  },
  {
   "cell_type": "code",
   "execution_count": null,
   "id": "5462c6df-2b1c-4eb6-904b-1f3fdbf465a6",
   "metadata": {},
   "outputs": [],
   "source": []
  },
  {
   "cell_type": "markdown",
   "id": "db8526b4-6a5d-429b-9cec-7eaf8b61c533",
   "metadata": {},
   "source": [
    "<div class=\"alert alert-block alert-info\">  \n",
    "    <center><h2><strong>Evaluation</strong></h2></center>"
   ]
  },
  {
   "cell_type": "code",
   "execution_count": null,
   "id": "8fd0c70b-668b-4c71-a4b1-2ddece8efeca",
   "metadata": {},
   "outputs": [],
   "source": []
  }
 ],
 "metadata": {
  "kernelspec": {
   "display_name": "Python 3 (ipykernel)",
   "language": "python",
   "name": "python3"
  },
  "language_info": {
   "codemirror_mode": {
    "name": "ipython",
    "version": 3
   },
   "file_extension": ".py",
   "mimetype": "text/x-python",
   "name": "python",
   "nbconvert_exporter": "python",
   "pygments_lexer": "ipython3",
   "version": "3.9.12"
  }
 },
 "nbformat": 4,
 "nbformat_minor": 5
}
